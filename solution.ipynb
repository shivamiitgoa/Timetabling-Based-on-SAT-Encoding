{
 "cells": [
  {
   "cell_type": "code",
   "execution_count": 148,
   "metadata": {},
   "outputs": [],
   "source": [
    "# ! export LD_LIBRARY_PATH=$LD_LIBRARY_PATH:~/workspace/z3-4.7.1-x64-debian-8.10/bin\n",
    "# ! export PYTHONPATH=~/workspace/z3-4.7.1-x64-debian-8.10/bin/python"
   ]
  },
  {
   "cell_type": "code",
   "execution_count": 149,
   "metadata": {},
   "outputs": [],
   "source": [
    "# Starting time\n",
    "import time\n",
    "start_time_of_program = time.time()"
   ]
  },
  {
   "cell_type": "code",
   "execution_count": 150,
   "metadata": {},
   "outputs": [],
   "source": [
    "# Importing libraries\n",
    "from z3 import *\n",
    "from itertools import permutations \n",
    "import itertools"
   ]
  },
  {
   "cell_type": "code",
   "execution_count": 151,
   "metadata": {},
   "outputs": [],
   "source": [
    "# Importing input file\n",
    "import json\n",
    "with open('newinp1.json') as f:\n",
    "    input_dict = json.load(f)"
   ]
  },
  {
   "cell_type": "code",
   "execution_count": 152,
   "metadata": {},
   "outputs": [
    {
     "name": "stdout",
     "output_type": "stream",
     "text": [
      "{'Classrooms': [['T1', 'small'],\n",
      "                ['LH1', 'big'],\n",
      "                ['physics lab', 'physics'],\n",
      "                ['computer lab', 'computer'],\n",
      "                ['Chemistry lab', 'chemistry'],\n",
      "                ['T2', 'small'],\n",
      "                ['T3', 'small'],\n",
      "                ['LH2', 'big'],\n",
      "                ['ground', 'ground']],\n",
      " 'Courses': [['MA105', 'big', [1, 1, 1, 1], ['Lok\\xa0Pati\\xa0Tripathi'], 1],\n",
      "             ['PH107', 'big', [1, 1, 1], ['Basanta\\xa0Nandi'], 1],\n",
      "             ['CH105', 'small', [1, 1, 1], ['E. Siva\\xa0Subramaniam\\xa0I.'], 1],\n",
      "             ['CH107',\n",
      "              'small',\n",
      "              [1, 1, 1],\n",
      "              ['E.\\xa0Siva\\xa0Subramaniam\\xa0I.', 'Rishikesh\\xa0Narayan'],\n",
      "              1],\n",
      "             ['CH117',\n",
      "              'chemistry',\n",
      "              [2, 2],\n",
      "              ['E.\\xa0Siva\\xa0Subramaniam\\xa0I.'],\n",
      "              1],\n",
      "             ['CS101', 'computer', [2, 2, 2], ['Somenath\\xa0Biswas'], 1],\n",
      "             ['NO101', 'ground', [2, 2], ['Santosh\\xa0Upadhyay'], 1],\n",
      "             ['ENG101', 'big', [1, 1], ['Nida Sajid'], 1],\n",
      "             ['CS207', 'big', [1, 1, 1], ['Amaldev\\xa0Manuel'], 2],\n",
      "             ['HS101', 'small', [1, 1], ['Sunil Paul'], 2],\n",
      "             ['EE101',\n",
      "              'big',\n",
      "              [1.5, 1.5],\n",
      "              ['T.\\xa0S.\\xa0Rathore', 'Ramnath Kini'],\n",
      "              2],\n",
      "             ['CS215', 'big', [1.5, 1.5], ['Sujit Sahoo'], 2],\n",
      "             ['CS251',\n",
      "              'computer',\n",
      "              [2],\n",
      "              ['Amaldev\\xa0Manuel', 'Sreejith\\xa0A.V.'],\n",
      "              2],\n",
      "             ['CS305', 'small', [1, 1, 1], ['Sharad\\xa0Sinha'], 3],\n",
      "             ['CS341', 'computer', [2], ['Sharad\\xa0Sinha'], 3],\n",
      "             ['CS344', 'small', [1, 1, 1], ['Clint\\xa0P.\\xa0George'], 3],\n",
      "             ['CS386', 'computer', [2], ['Clint\\xa0P.\\xa0George'], 3],\n",
      "             ['CS228', 'small', [1, 1, 1], ['Sreejith\\xa0A.V.'], 3],\n",
      "             ['HS301', 'big', [1, 1], ['Sabiha\\xa0Hashami'], 3]],\n",
      " 'Institute time': [[8.3, 12.3], [14.0, 17.0]],\n",
      " 'Room Types': ['small', 'big', 'chemistry', 'physics', 'computer', 'ground']}\n"
     ]
    }
   ],
   "source": [
    "# Viewing input dictionary\n",
    "import pprint\n",
    "pprint.pprint(input_dict)"
   ]
  },
  {
   "cell_type": "code",
   "execution_count": 153,
   "metadata": {},
   "outputs": [
    {
     "data": {
      "text/plain": [
       "{'big': ['LH1', 'LH2'],\n",
       " 'chemistry': ['Chemistry lab'],\n",
       " 'computer': ['computer lab'],\n",
       " 'ground': ['ground'],\n",
       " 'physics': ['physics lab'],\n",
       " 'small': ['T1', 'T2', 'T3']}"
      ]
     },
     "execution_count": 153,
     "metadata": {},
     "output_type": "execute_result"
    }
   ],
   "source": [
    "# Type to Room Dictionary\n",
    "type_to_room_dict = {}\n",
    "for x in input_dict['Room Types']:\n",
    "    type_to_room_dict[x] = []\n",
    "for x in input_dict['Classrooms']:\n",
    "    type_to_room_dict[x[1]].append(x[0])\n",
    "type_to_room_dict"
   ]
  },
  {
   "cell_type": "code",
   "execution_count": 154,
   "metadata": {},
   "outputs": [
    {
     "name": "stdout",
     "output_type": "stream",
     "text": [
      "['ground', 'computer lab', 'Chemistry lab', 'T1', 'T2', 'T3', 'physics lab', 'LH1', 'LH2']\n",
      "{'Chemistry lab': 2, 'T3': 5, 'physics lab': 6, 'T2': 4, 'ground': 0, 'LH1': 7, 'T1': 3, 'computer lab': 1, 'LH2': 8}\n"
     ]
    }
   ],
   "source": [
    "# List of room and dictionary from room to its index\n",
    "room_list = []\n",
    "for key,value in type_to_room_dict.items():\n",
    "    room_list.extend(value)\n",
    "print(room_list)\n",
    "room_to_index = {x:y for y,x in enumerate(room_list)}\n",
    "print(room_to_index)"
   ]
  },
  {
   "cell_type": "code",
   "execution_count": 155,
   "metadata": {},
   "outputs": [
    {
     "name": "stdout",
     "output_type": "stream",
     "text": [
      "[1, 2, 3, 4, 5, 6, 7, 8, 9, 10]\n",
      "{1: [1, 2, 3, 4, 5, 6, 7, 8],\n",
      " 2: [1, 2, 3, 4, 5, 6],\n",
      " 3: [1, 2, 3, 4, 5, 6, 7, 8],\n",
      " 4: [1, 2, 3, 4, 5, 6],\n",
      " 5: [1, 2, 3, 4, 5, 6, 7, 8],\n",
      " 6: [1, 2, 3, 4, 5, 6],\n",
      " 7: [1, 2, 3, 4, 5, 6, 7, 8],\n",
      " 8: [1, 2, 3, 4, 5, 6],\n",
      " 9: [1, 2, 3, 4, 5, 6, 7, 8],\n",
      " 10: [1, 2, 3, 4, 5, 6]}\n"
     ]
    }
   ],
   "source": [
    "# Days and periods\n",
    "day_list_tmp = []\n",
    "for j in range(5):\n",
    "    for x in input_dict[\"Institute time\"]:\n",
    "        lower_bound = x[0]\n",
    "        upper_bound = x[1]\n",
    "        day_list_tmp.append(int((upper_bound -lower_bound)/.5))\n",
    "day_dict = {}\n",
    "for i in range(len(day_list_tmp)):\n",
    "    day_dict[i+1] = list(range(1,day_list_tmp[i] + 1))\n",
    "day_list = list(range(1,1+len(day_list_tmp)))\n",
    "def periods(d):\n",
    "    return day_dict[d]\n",
    "print(day_list)\n",
    "pprint.pprint(day_dict)"
   ]
  },
  {
   "cell_type": "code",
   "execution_count": 156,
   "metadata": {},
   "outputs": [
    {
     "name": "stdout",
     "output_type": "stream",
     "text": [
      "['T.\\xa0S.\\xa0Rathore', 'Lok\\xa0Pati\\xa0Tripathi', 'Amaldev\\xa0Manuel', 'Sabiha\\xa0Hashami', 'E.\\xa0Siva\\xa0Subramaniam\\xa0I.', 'Rishikesh\\xa0Narayan', 'Sunil Paul', 'Ramnath Kini', 'Nida Sajid', 'Sujit Sahoo', 'Sreejith\\xa0A.V.', 'Sharad\\xa0Sinha', 'Somenath\\xa0Biswas', 'E. Siva\\xa0Subramaniam\\xa0I.', 'Clint\\xa0P.\\xa0George', 'Santosh\\xa0Upadhyay', 'Basanta\\xa0Nandi']\n",
      "{'Lok\\xa0Pati\\xa0Tripathi': 1, 'Amaldev\\xa0Manuel': 2, 'E.\\xa0Siva\\xa0Subramaniam\\xa0I.': 4, 'Rishikesh\\xa0Narayan': 5, 'Sunil Paul': 6, 'Ramnath Kini': 7, 'Nida Sajid': 8, 'Sabiha\\xa0Hashami': 3, 'Santosh\\xa0Upadhyay': 15, 'Sreejith\\xa0A.V.': 10, 'Sharad\\xa0Sinha': 11, 'Basanta\\xa0Nandi': 16, 'Somenath\\xa0Biswas': 12, 'Clint\\xa0P.\\xa0George': 14, 'E. Siva\\xa0Subramaniam\\xa0I.': 13, 'T.\\xa0S.\\xa0Rathore': 0, 'Sujit Sahoo': 9}\n"
     ]
    }
   ],
   "source": [
    "# faculty list\n",
    "tmp_list = []\n",
    "for x in input_dict[\"Courses\"]:\n",
    "    for y in x[3]:\n",
    "        tmp_list.append(y)\n",
    "faculty_list = list(set(tmp_list))\n",
    "faculty_to_index = {x:y for y,x in enumerate(faculty_list)}\n",
    "\n",
    "print(faculty_list)\n",
    "print(faculty_to_index)"
   ]
  },
  {
   "cell_type": "code",
   "execution_count": 157,
   "metadata": {},
   "outputs": [
    {
     "name": "stdout",
     "output_type": "stream",
     "text": [
      "[1, 2, 3]\n"
     ]
    }
   ],
   "source": [
    "# batch list\n",
    "tmp_list = []\n",
    "for x in input_dict[\"Courses\"]:\n",
    "    tmp_list.append(x[4])\n",
    "batch_list = list(set(tmp_list))\n",
    "batch_to_index = {x:y for y,x in enumerate(batch_list)}\n",
    "print(batch_list)"
   ]
  },
  {
   "cell_type": "code",
   "execution_count": 158,
   "metadata": {},
   "outputs": [
    {
     "name": "stdout",
     "output_type": "stream",
     "text": [
      "[['MA105', 'big', [1, 1, 1, 1], ['Lok\\xa0Pati\\xa0Tripathi'], 1], ['PH107', 'big', [1, 1, 1], ['Basanta\\xa0Nandi'], 1], ['CH105', 'small', [1, 1, 1], ['E. Siva\\xa0Subramaniam\\xa0I.'], 1], ['CH107', 'small', [1, 1, 1], ['E.\\xa0Siva\\xa0Subramaniam\\xa0I.', 'Rishikesh\\xa0Narayan'], 1], ['CH117', 'chemistry', [2, 2], ['E.\\xa0Siva\\xa0Subramaniam\\xa0I.'], 1], ['CS101', 'computer', [2, 2, 2], ['Somenath\\xa0Biswas'], 1], ['NO101', 'ground', [2, 2], ['Santosh\\xa0Upadhyay'], 1], ['ENG101', 'big', [1, 1], ['Nida Sajid'], 1], ['CS207', 'big', [1, 1, 1], ['Amaldev\\xa0Manuel'], 2], ['HS101', 'small', [1, 1], ['Sunil Paul'], 2], ['EE101', 'big', [1.5, 1.5], ['T.\\xa0S.\\xa0Rathore', 'Ramnath Kini'], 2], ['CS215', 'big', [1.5, 1.5], ['Sujit Sahoo'], 2], ['CS251', 'computer', [2], ['Amaldev\\xa0Manuel', 'Sreejith\\xa0A.V.'], 2], ['CS305', 'small', [1, 1, 1], ['Sharad\\xa0Sinha'], 3], ['CS341', 'computer', [2], ['Sharad\\xa0Sinha'], 3], ['CS344', 'small', [1, 1, 1], ['Clint\\xa0P.\\xa0George'], 3], ['CS386', 'computer', [2], ['Clint\\xa0P.\\xa0George'], 3], ['CS228', 'small', [1, 1, 1], ['Sreejith\\xa0A.V.'], 3], ['HS301', 'big', [1, 1], ['Sabiha\\xa0Hashami'], 3]]\n"
     ]
    }
   ],
   "source": [
    "# Course list\n",
    "course_list = input_dict[\"Courses\"]\n",
    "print(course_list)"
   ]
  },
  {
   "cell_type": "code",
   "execution_count": 159,
   "metadata": {},
   "outputs": [
    {
     "name": "stdout",
     "output_type": "stream",
     "text": [
      "[(1, 0, 1, 1), (1, 0, 1, 2), (1, 0, 1, 3), (1, 0, 1, 4), (16, 1, 1, 1), (16, 1, 1, 2), (16, 1, 1, 3), (13, 2, 1, 1), (13, 2, 1, 2), (13, 2, 1, 3), (4, 3, 1, 1), (4, 3, 1, 2), (4, 3, 1, 3), (4, 4, 1, 1), (4, 4, 1, 2), (12, 5, 1, 1), (12, 5, 1, 2), (12, 5, 1, 3), (15, 6, 1, 1), (15, 6, 1, 2), (8, 7, 1, 1), (8, 7, 1, 2), (2, 8, 2, 1), (2, 8, 2, 2), (2, 8, 2, 3), (6, 9, 2, 1), (6, 9, 2, 2), (0, 10, 2, 1), (0, 10, 2, 2), (9, 11, 2, 1), (9, 11, 2, 2), (2, 12, 2, 1), (11, 13, 3, 1), (11, 13, 3, 2), (11, 13, 3, 3), (11, 14, 3, 1), (14, 15, 3, 1), (14, 15, 3, 2), (14, 15, 3, 3), (14, 16, 3, 1), (10, 17, 3, 1), (10, 17, 3, 2), (10, 17, 3, 3), (3, 18, 3, 1), (3, 18, 3, 2)]\n"
     ]
    }
   ],
   "source": [
    "# Here we are taking only first faculty in the list and we will write the codition on other faculties of the course later\n",
    "\n",
    "tsgn = []\n",
    "for s in range(len(course_list)):\n",
    "    # Getting number of lecture slots\n",
    "    n = len(course_list[s][2])\n",
    "    faculty_name_tmp = course_list[s][3][0]\n",
    "    g = course_list[s][4]\n",
    "    t = faculty_to_index[faculty_name_tmp]\n",
    "    for ni in range(1,n+1):\n",
    "        tsgn.append((t,s,g,ni))\n",
    "print(tsgn)"
   ]
  },
  {
   "cell_type": "code",
   "execution_count": 160,
   "metadata": {},
   "outputs": [
    {
     "data": {
      "text/plain": [
       "4"
      ]
     },
     "execution_count": 160,
     "metadata": {},
     "output_type": "execute_result"
    }
   ],
   "source": [
    "len(course_list[0][2])"
   ]
  },
  {
   "cell_type": "code",
   "execution_count": 161,
   "metadata": {},
   "outputs": [],
   "source": [
    "# This function takes a tuple of (t,s,g,n) and gives n * .5 , where 'n' hours is the duration of class associated with this tsgn\n",
    "\n",
    "def duration(x_tsgn):\n",
    "    this_course = course_list[x_tsgn[1]]\n",
    "    this_lecture_list = this_course[2]\n",
    "    this_lecture_length = this_lecture_list[x_tsgn[3]-1]\n",
    "    return int(this_lecture_length / .5)"
   ]
  },
  {
   "cell_type": "code",
   "execution_count": 162,
   "metadata": {},
   "outputs": [
    {
     "name": "stdout",
     "output_type": "stream",
     "text": [
      "2\n"
     ]
    }
   ],
   "source": [
    "print(duration((2, 0, 2, 1)))"
   ]
  },
  {
   "cell_type": "code",
   "execution_count": 163,
   "metadata": {},
   "outputs": [],
   "source": [
    "# This function will take index of a faculty and return a list containing indices of courses which are being taught\n",
    "# by this particular professor\n",
    "\n",
    "def lessons_t(t):\n",
    "    result = []\n",
    "    for x in tsgn:\n",
    "        if (x[0] == t):\n",
    "            result.append(x)\n",
    "    return result"
   ]
  },
  {
   "cell_type": "code",
   "execution_count": 164,
   "metadata": {},
   "outputs": [
    {
     "name": "stdout",
     "output_type": "stream",
     "text": [
      "[(1, 0, 1, 1), (1, 0, 1, 2), (1, 0, 1, 3), (1, 0, 1, 4)]\n"
     ]
    }
   ],
   "source": [
    "print(lessons_t(1))"
   ]
  },
  {
   "cell_type": "code",
   "execution_count": 165,
   "metadata": {},
   "outputs": [],
   "source": [
    "# This function will take a batch and return a list containing indices of courses which are being taught\n",
    "# to this particular batch\n",
    "\n",
    "def lessons_g(g):\n",
    "    result = []\n",
    "    for x in tsgn:\n",
    "        if (x[2] == g):\n",
    "            result.append(x)\n",
    "    return result"
   ]
  },
  {
   "cell_type": "code",
   "execution_count": 166,
   "metadata": {},
   "outputs": [
    {
     "name": "stdout",
     "output_type": "stream",
     "text": [
      "[(2, 8, 2, 1), (2, 8, 2, 2), (2, 8, 2, 3), (6, 9, 2, 1), (6, 9, 2, 2), (0, 10, 2, 1), (0, 10, 2, 2), (9, 11, 2, 1), (9, 11, 2, 2), (2, 12, 2, 1)]\n"
     ]
    }
   ],
   "source": [
    "print(lessons_g(2))"
   ]
  },
  {
   "cell_type": "code",
   "execution_count": 167,
   "metadata": {},
   "outputs": [],
   "source": [
    "# Some short-hands :-\n",
    "# VX.Y - Defining variables of set X.Y\n",
    "# CX.Y - Defining constraints of set X.Y"
   ]
  },
  {
   "cell_type": "code",
   "execution_count": 168,
   "metadata": {},
   "outputs": [],
   "source": [
    "pd = dict() # Proposition Dictionary\n",
    "# V1.1\n",
    "for x in tsgn:\n",
    "    for d in day_list:\n",
    "        for p in range(min(periods(d)), 1 + max(periods(d)) - duration(x) + 1):\n",
    "            var_name = \"xdas\"+\"t\"+str(x[0])+\"s\"+str(x[1])+\"g\"+str(x[2])+\"n\"+str(x[3])+\"d\"+str(d)+\"p\"+str(p)\n",
    "            pd[var_name] = Bool(var_name)"
   ]
  },
  {
   "cell_type": "code",
   "execution_count": 169,
   "metadata": {},
   "outputs": [],
   "source": [
    "# V1.2\n",
    "for x in tsgn:\n",
    "    for d in day_list:\n",
    "        for p in range(min(periods(d)), 1 + max(periods(d))):\n",
    "            var_name = \"x\"+\"t\"+str(x[0])+\"s\"+str(x[1])+\"g\"+str(x[2])+\"n\"+str(x[3])+\"d\"+str(d)+\"p\"+str(p)\n",
    "            pd[var_name] = Bool(var_name)"
   ]
  },
  {
   "cell_type": "code",
   "execution_count": 170,
   "metadata": {},
   "outputs": [],
   "source": [
    "# C1.1\n",
    "constraint_1_1 = True\n",
    "for x in tsgn:\n",
    "    for d in day_list:\n",
    "        for p1 in range(min(periods(d)), 1 + max(periods(d)) - duration(x) + 1): \n",
    "            var_name1 = \"xdas\"+\"t\"+str(x[0])+\"s\"+str(x[1])+\"g\"+str(x[2])+\"n\"+str(x[3])+\"d\"+str(d)+\"p\"+str(p1)\n",
    "            for p2 in range(p1,1 + p1 + duration(x) - 1):\n",
    "                var_name2 = \"x\"+\"t\"+str(x[0])+\"s\"+str(x[1])+\"g\"+str(x[2])+\"n\"+str(x[3])+\"d\"+str(d)+\"p\"+str(p2)\n",
    "                constraint_1_1 = And(constraint_1_1,Implies(pd[var_name1], pd[var_name2]))"
   ]
  },
  {
   "cell_type": "code",
   "execution_count": 171,
   "metadata": {},
   "outputs": [],
   "source": [
    "# C1.2\n",
    "constraint_1_2 = True\n",
    "tmp_true = True\n",
    "tmp_false = False\n",
    "for x in tsgn:\n",
    "    for d in day_list:\n",
    "        for p2 in range(min(periods(d)), 1 + max(periods(d))): \n",
    "            tmp = copy.deepcopy(tmp_false)\n",
    "            var_name2 = \"x\"+\"t\"+str(x[0])+\"s\"+str(x[1])+\"g\"+str(x[2])+\"n\"+str(x[3])+\"d\"+str(d)+\"p\"+str(p2)\n",
    "            for p1 in range(max(p2 - duration(x) + 1, min(periods(d))),1 + min((max(periods(d)) - duration(x) + 1),p2)):\n",
    "                var_name1 = \"xdas\"+\"t\"+str(x[0])+\"s\"+str(x[1])+\"g\"+str(x[2])+\"n\"+str(x[3])+\"d\"+str(d)+\"p\"+str(p1)\n",
    "                tmp = Or(tmp,pd[var_name1])\n",
    "            constraint_1_2 = And(constraint_1_2,Implies(pd[var_name2], tmp))"
   ]
  },
  {
   "cell_type": "code",
   "execution_count": 172,
   "metadata": {},
   "outputs": [],
   "source": [
    "# V2.1\n",
    "for x in tsgn:\n",
    "    for d in day_list:\n",
    "        var_name = \"x\"+\"t\"+str(x[0])+\"s\"+str(x[1])+\"g\"+str(x[2])+\"n\"+str(x[3])+\"d\"+str(d)\n",
    "        pd[var_name] = Bool(var_name)"
   ]
  },
  {
   "cell_type": "code",
   "execution_count": 173,
   "metadata": {},
   "outputs": [],
   "source": [
    "# C2.1\n",
    "constraint_2_1 = True\n",
    "for x in tsgn:\n",
    "    for d in day_list:\n",
    "        var_name2 = \"x\"+\"t\"+str(x[0])+\"s\"+str(x[1])+\"g\"+str(x[2])+\"n\"+str(x[3])+\"d\"+str(d)\n",
    "        for p in periods(d): \n",
    "            var_name1 = \"x\"+\"t\"+str(x[0])+\"s\"+str(x[1])+\"g\"+str(x[2])+\"n\"+str(x[3])+\"d\"+str(d)+\"p\"+str(p)\n",
    "            constraint_2_1 = And(constraint_2_1,Implies(pd[var_name1], pd[var_name2]))"
   ]
  },
  {
   "cell_type": "code",
   "execution_count": 174,
   "metadata": {},
   "outputs": [],
   "source": [
    "# C2.2\n",
    "constraint_2_2 = True\n",
    "tmp_true = True\n",
    "tmp_false = False\n",
    "for x in tsgn:\n",
    "    for d in day_list:\n",
    "        tmp = copy.deepcopy(tmp_false)\n",
    "        var_name2 = \"x\"+\"t\"+str(x[0])+\"s\"+str(x[1])+\"g\"+str(x[2])+\"n\"+str(x[3])+\"d\"+str(d)\n",
    "        for p1 in periods(d):\n",
    "            var_name1 = \"x\"+\"t\"+str(x[0])+\"s\"+str(x[1])+\"g\"+str(x[2])+\"n\"+str(x[3])+\"d\"+str(d)+\"p\"+str(p1)\n",
    "            tmp = Or(tmp,pd[var_name1])\n",
    "        constraint_2_2 = And(constraint_2_2,Implies(pd[var_name2], tmp))"
   ]
  },
  {
   "cell_type": "code",
   "execution_count": 175,
   "metadata": {},
   "outputs": [],
   "source": [
    "# C2.3\n",
    "constraint_2_3 = True\n",
    "for x in tsgn:\n",
    "    for d in day_list:\n",
    "        var_name2 = \"x\"+\"t\"+str(x[0])+\"s\"+str(x[1])+\"g\"+str(x[2])+\"n\"+str(x[3])+\"d\"+str(d)\n",
    "        for p in range(min(periods(d)), 1 + max(periods(d)) - duration(x) + 1):\n",
    "            var_name1 = \"xdas\"+\"t\"+str(x[0])+\"s\"+str(x[1])+\"g\"+str(x[2])+\"n\"+str(x[3])+\"d\"+str(d)+\"p\"+str(p)\n",
    "            constraint_2_3 = And(constraint_2_3,Implies(pd[var_name1], pd[var_name2]))"
   ]
  },
  {
   "cell_type": "code",
   "execution_count": 176,
   "metadata": {},
   "outputs": [],
   "source": [
    "# C2.4\n",
    "constraint_2_4 = True\n",
    "tmp_true = True\n",
    "tmp_false = False\n",
    "for x in tsgn:\n",
    "    for d in day_list:\n",
    "        tmp = copy.deepcopy(tmp_false)\n",
    "        var_name2 = \"x\"+\"t\"+str(x[0])+\"s\"+str(x[1])+\"g\"+str(x[2])+\"n\"+str(x[3])+\"d\"+str(d)\n",
    "        for p1 in range(min(periods(d)), 1 + max(periods(d)) - duration(x) + 1):\n",
    "            var_name1 = \"xdas\"+\"t\"+str(x[0])+\"s\"+str(x[1])+\"g\"+str(x[2])+\"n\"+str(x[3])+\"d\"+str(d)+\"p\"+str(p1)\n",
    "            tmp = Or(tmp,pd[var_name1])\n",
    "        constraint_2_4 = And(constraint_2_4,Implies(pd[var_name2], tmp))"
   ]
  },
  {
   "cell_type": "code",
   "execution_count": 177,
   "metadata": {},
   "outputs": [],
   "source": [
    "# V3.1\n",
    "for t in range(len(faculty_list)):\n",
    "    for d in day_list:\n",
    "        for p in periods(d):\n",
    "            var_name = \"x\"+\"t\"+str(t)+\"d\"+str(d)+\"p\"+str(p)\n",
    "            pd[var_name] = Bool(var_name)"
   ]
  },
  {
   "cell_type": "code",
   "execution_count": 178,
   "metadata": {},
   "outputs": [],
   "source": [
    "# C3.1\n",
    "constraint_3_1 = True\n",
    "for x in tsgn:\n",
    "    for d in day_list:\n",
    "        for p in periods(d): \n",
    "            var_name1 = \"x\"+\"t\"+str(x[0])+\"s\"+str(x[1])+\"g\"+str(x[2])+\"n\"+str(x[3])+\"d\"+str(d)+\"p\"+str(p)\n",
    "            var_name2 = \"x\"+\"t\"+str(x[0])+\"d\"+str(d)+\"p\"+str(p)\n",
    "            constraint_3_1 = And(constraint_3_1,Implies(pd[var_name1], pd[var_name2]))"
   ]
  },
  {
   "cell_type": "code",
   "execution_count": 179,
   "metadata": {},
   "outputs": [],
   "source": [
    "# C3.2\n",
    "constraint_3_2 = True\n",
    "tmp_true = True\n",
    "tmp_false = False\n",
    "for t in range(len(faculty_list)):\n",
    "    for d in day_list:\n",
    "        for p in periods(d): \n",
    "            tmp = copy.deepcopy(tmp_false)\n",
    "            var_name2 = \"x\"+\"t\"+str(t)+\"d\"+str(d)+\"p\"+str(p)\n",
    "            for x in lessons_t(t):\n",
    "                var_name1 = \"x\"+\"t\"+str(x[0])+\"s\"+str(x[1])+\"g\"+str(x[2])+\"n\"+str(x[3])+\"d\"+str(d)+\"p\"+str(p1)\n",
    "                tmp = Or(tmp,pd[var_name1])\n",
    "            constraint_3_2 = And(constraint_3_2,Implies(pd[var_name2], tmp))"
   ]
  },
  {
   "cell_type": "code",
   "execution_count": 180,
   "metadata": {},
   "outputs": [],
   "source": [
    "# V4.1\n",
    "for g in batch_list:\n",
    "    for d in day_list:\n",
    "        for p in periods(d):\n",
    "            var_name = \"x\"+\"g\"+str(g)+\"d\"+str(d)+\"p\"+str(p)\n",
    "            pd[var_name] = Bool(var_name)"
   ]
  },
  {
   "cell_type": "code",
   "execution_count": 181,
   "metadata": {},
   "outputs": [],
   "source": [
    "# C4.1\n",
    "constraint_4_1 = True\n",
    "for x in tsgn:\n",
    "    for d in day_list:\n",
    "        for p in periods(d): \n",
    "            var_name1 = \"x\"+\"t\"+str(x[0])+\"s\"+str(x[1])+\"g\"+str(x[2])+\"n\"+str(x[3])+\"d\"+str(d)+\"p\"+str(p)\n",
    "            var_name2 = \"x\"+\"g\"+str(x[2])+\"d\"+str(d)+\"p\"+str(p)\n",
    "            constraint_4_1 = And(constraint_3_1,Implies(pd[var_name1], pd[var_name2]))"
   ]
  },
  {
   "cell_type": "code",
   "execution_count": 182,
   "metadata": {},
   "outputs": [],
   "source": [
    "# C4.2\n",
    "constraint_4_2 = True\n",
    "tmp_true = True\n",
    "tmp_false = False\n",
    "for g in batch_list:\n",
    "    for d in day_list:\n",
    "        for p in periods(d): \n",
    "            tmp = copy.deepcopy(tmp_false)\n",
    "            var_name2 = \"x\"+\"g\"+str(x[2])+\"d\"+str(d)+\"p\"+str(p)\n",
    "            for x in lessons_g(g):\n",
    "                var_name1 = \"x\"+\"t\"+str(x[0])+\"s\"+str(x[1])+\"g\"+str(x[2])+\"n\"+str(x[3])+\"d\"+str(d)+\"p\"+str(p)\n",
    "                tmp = Or(tmp,pd[var_name1])\n",
    "            constraint_4_2 = And(constraint_4_2,Implies(pd[var_name2], tmp))"
   ]
  },
  {
   "cell_type": "code",
   "execution_count": 183,
   "metadata": {},
   "outputs": [],
   "source": [
    "# C5.1\n",
    "constraint_5_1 = True\n",
    "tmp_true = True\n",
    "tmp_false = False\n",
    "for x in tsgn:\n",
    "    tmp = copy.deepcopy(tmp_false)\n",
    "    for d in day_list:\n",
    "        var_name = \"x\"+\"t\"+str(x[0])+\"s\"+str(x[1])+\"g\"+str(x[2])+\"n\"+str(x[3])+\"d\"+str(d)\n",
    "        tmp = Or(tmp,pd[var_name])\n",
    "    constraint_5_1 = And(constraint_5_1,tmp)"
   ]
  },
  {
   "cell_type": "code",
   "execution_count": 184,
   "metadata": {},
   "outputs": [],
   "source": [
    "# C5.2\n",
    "constraint_5_2 = True\n",
    "tmp_true = True\n",
    "tmp_false = False\n",
    "for x in tsgn:\n",
    "    for d in day_list:\n",
    "        tmp = copy.deepcopy(tmp_false)\n",
    "        var_name2 = \"x\"+\"t\"+str(x[0])+\"s\"+str(x[1])+\"g\"+str(x[2])+\"n\"+str(x[3])+\"d\"+str(d)\n",
    "        for p1 in range(min(periods(d)), 1 + max(periods(d)) - duration(x) + 1):\n",
    "            var_name1 = \"xdas\"+\"t\"+str(x[0])+\"s\"+str(x[1])+\"g\"+str(x[2])+\"n\"+str(x[3])+\"d\"+str(d)+\"p\"+str(p1)\n",
    "            tmp = Or(tmp,pd[var_name1])\n",
    "        constraint_5_2 = And(constraint_5_2,Implies(pd[var_name2], tmp))"
   ]
  },
  {
   "cell_type": "code",
   "execution_count": 185,
   "metadata": {},
   "outputs": [],
   "source": [
    "# C6.1\n",
    "constraint_6_1 = True\n",
    "tmp_true = True\n",
    "tmp_false = False\n",
    "for x in tsgn:\n",
    "    tmp = copy.deepcopy(tmp_true)\n",
    "    for di in range(len(day_list)-1):\n",
    "        for dj in range(di+1,len(day_list)):\n",
    "            var_name2 = \"x\"+\"t\"+str(x[0])+\"s\"+str(x[1])+\"g\"+str(x[2])+\"n\"+str(x[3])+\"d\"+str(day_list[di])\n",
    "            var_name1 = \"x\"+\"t\"+str(x[0])+\"s\"+str(x[1])+\"g\"+str(x[2])+\"n\"+str(x[3])+\"d\"+str(day_list[dj])\n",
    "            tmp = And(tmp,Or(Not(pd[var_name1]),Not(pd[var_name2])))\n",
    "    constraint_6_1 = And(constraint_6_1,tmp)"
   ]
  },
  {
   "cell_type": "code",
   "execution_count": 186,
   "metadata": {},
   "outputs": [],
   "source": [
    "# C6.2\n",
    "constraint_6_2 = True\n",
    "tmp_true = True\n",
    "tmp_false = False\n",
    "for x in tsgn:\n",
    "    for d in day_list:\n",
    "        tmp = copy.deepcopy(tmp_true)\n",
    "        for p1 in range(min(periods(d)), 1 + max(periods(d)) - duration(x) + 1): \n",
    "            for p2 in range(p1+1,1 + max(periods(d)) - duration(x) + 1):\n",
    "                var_name2 = \"xdas\"+\"t\"+str(x[0])+\"s\"+str(x[1])+\"g\"+str(x[2])+\"n\"+str(x[3])+\"d\"+str(d)+\"p\"+str(p1)\n",
    "                var_name1 = \"xdas\"+\"t\"+str(x[0])+\"s\"+str(x[1])+\"g\"+str(x[2])+\"n\"+str(x[3])+\"d\"+str(d)+\"p\"+str(p2)\n",
    "                tmp = And(tmp,Or(Not(pd[var_name1]),Not(pd[var_name2])))\n",
    "        constraint_6_2 = And(constraint_6_2,tmp)"
   ]
  },
  {
   "cell_type": "code",
   "execution_count": 187,
   "metadata": {},
   "outputs": [],
   "source": [
    "# C7.1\n",
    "constraint_7_1 = True\n",
    "tmp_true = True\n",
    "tmp_false = False\n",
    "for g in batch_list:\n",
    "    for d in day_list:\n",
    "        for p in periods(d):\n",
    "            tmp = copy.deepcopy(tmp_true)\n",
    "            lg = lessons_g(g) # Lessons of batch g\n",
    "            for xi in range(len(lg)-1):\n",
    "                for xj in range(xi+1,len(lg)):\n",
    "                    x1 = lg[xi]\n",
    "                    x2 = lg[xj]\n",
    "                    var_name2 = \"x\"+\"t\"+str(x1[0])+\"s\"+str(x1[1])+\"g\"+str(x1[2])+\"n\"+str(x1[3])+\"d\"+str(d)+\"p\"+str(p)\n",
    "                    var_name1 = \"x\"+\"t\"+str(x2[0])+\"s\"+str(x2[1])+\"g\"+str(x2[2])+\"n\"+str(x2[3])+\"d\"+str(d)+\"p\"+str(p)\n",
    "                    tmp = And(tmp,Or(Not(pd[var_name1]),Not(pd[var_name2])))\n",
    "            constraint_7_1 = And(constraint_7_1,tmp)"
   ]
  },
  {
   "cell_type": "code",
   "execution_count": 188,
   "metadata": {},
   "outputs": [],
   "source": [
    "# C7.2\n",
    "constraint_7_2 = True\n",
    "tmp_true = True\n",
    "tmp_false = False\n",
    "for t in range(len(faculty_list)):\n",
    "    for d in day_list:\n",
    "        for p in periods(d):\n",
    "            tmp = copy.deepcopy(tmp_true)\n",
    "            lt = lessons_t(t) # Lessons of teacher t\n",
    "            for xi in range(len(lt)-1):\n",
    "                for xj in range(xi+1,len(lt)):\n",
    "                    x1 = lg[xi]\n",
    "                    x2 = lg[xj]\n",
    "                    var_name2 = \"x\"+\"t\"+str(x1[0])+\"s\"+str(x1[1])+\"g\"+str(x1[2])+\"n\"+str(x1[3])+\"d\"+str(d)+\"p\"+str(p)\n",
    "                    var_name1 = \"x\"+\"t\"+str(x2[0])+\"s\"+str(x2[1])+\"g\"+str(x2[2])+\"n\"+str(x2[3])+\"d\"+str(d)+\"p\"+str(p)\n",
    "                    tmp = And(tmp,Or(Not(pd[var_name1]),Not(pd[var_name2])))\n",
    "            constraint_7_2 = And(constraint_7_2,tmp)"
   ]
  },
  {
   "cell_type": "code",
   "execution_count": 189,
   "metadata": {},
   "outputs": [],
   "source": [
    "# This function will take a tuple (t,s,g,n) and return the list of indices of room which is of type st, where st is the room type\n",
    "# of course s\n",
    "\n",
    "def rooms(x_tsgn):\n",
    "    x_room_type = course_list[x_tsgn[1]][1]\n",
    "    x_room_list = type_to_room_dict[x_room_type]\n",
    "    return [room_to_index[x] for x in x_room_list]"
   ]
  },
  {
   "cell_type": "code",
   "execution_count": 190,
   "metadata": {},
   "outputs": [
    {
     "data": {
      "text/plain": [
       "[7, 8]"
      ]
     },
     "execution_count": 190,
     "metadata": {},
     "output_type": "execute_result"
    }
   ],
   "source": [
    "rooms((1, 0, 2, 1))"
   ]
  },
  {
   "cell_type": "code",
   "execution_count": 191,
   "metadata": {},
   "outputs": [],
   "source": [
    "# V5.1\n",
    "for x in tsgn:\n",
    "    for d in day_list:\n",
    "        for p in range(min(periods(d)), 1 + max(periods(d)) - duration(x) + 1):\n",
    "            for r in rooms(x):\n",
    "                var_name = \"xdas\"+\"t\"+str(x[0])+\"s\"+str(x[1])+\"g\"+str(x[2])+\"n\"+str(x[3])+\"d\"+str(d)+\"p\"+str(p)+\"r\"+str(r)\n",
    "                pd[var_name] = Bool(var_name)"
   ]
  },
  {
   "cell_type": "code",
   "execution_count": 192,
   "metadata": {},
   "outputs": [],
   "source": [
    "# V5.2\n",
    "for x in tsgn:\n",
    "    for d in day_list:\n",
    "        for p in range(min(periods(d)), 1 + max(periods(d))):\n",
    "            for r in rooms(x):\n",
    "                var_name = \"x\"+\"t\"+str(x[0])+\"s\"+str(x[1])+\"g\"+str(x[2])+\"n\"+str(x[3])+\"d\"+str(d)+\"p\"+str(p)+\"r\"+str(r)\n",
    "                pd[var_name] = Bool(var_name)"
   ]
  },
  {
   "cell_type": "code",
   "execution_count": 193,
   "metadata": {},
   "outputs": [],
   "source": [
    "# C9.1\n",
    "constraint_9_1 = True\n",
    "for x in tsgn:\n",
    "    for d in day_list:\n",
    "        for r in rooms(x):\n",
    "            for p1 in range(min(periods(d)), 1 + max(periods(d)) - duration(x) + 1): \n",
    "                for p2 in range(p1,1 + p1 + duration(x) - 1):\n",
    "                    var_name1 = \"xdas\"+\"t\"+str(x[0])+\"s\"+str(x[1])+\"g\"+str(x[2])+\"n\"+str(x[3])+\"d\"+str(d)+\"p\"+str(p1)+\"r\"+str(r)\n",
    "                    var_name2 = \"x\"+\"t\"+str(x[0])+\"s\"+str(x[1])+\"g\"+str(x[2])+\"n\"+str(x[3])+\"d\"+str(d)+\"p\"+str(p2)+\"r\"+str(r)\n",
    "                    constraint_9_1 = And(constraint_9_1,Implies(pd[var_name1], pd[var_name2]))"
   ]
  },
  {
   "cell_type": "code",
   "execution_count": 194,
   "metadata": {},
   "outputs": [],
   "source": [
    "# C9.2\n",
    "constraint_9_2 = True\n",
    "tmp_true = True\n",
    "tmp_false = False\n",
    "for x in tsgn:\n",
    "    for d in day_list:\n",
    "        for r in rooms(x):\n",
    "            for p2 in range(min(periods(d)), 1 + max(periods(d))): \n",
    "                tmp = copy.deepcopy(tmp_false)\n",
    "                var_name2 = \"x\"+\"t\"+str(x[0])+\"s\"+str(x[1])+\"g\"+str(x[2])+\"n\"+str(x[3])+\"d\"+str(d)+\"p\"+str(p2)+\"r\"+str(r)\n",
    "                for p1 in range(max(p2 - duration(x) + 1, min(periods(d))),1 + min((max(periods(d)) - duration(x) + 1),p2)):\n",
    "                    var_name1 = \"xdas\"+\"t\"+str(x[0])+\"s\"+str(x[1])+\"g\"+str(x[2])+\"n\"+str(x[3])+\"d\"+str(d)+\"p\"+str(p1)+\"r\"+str(r)\n",
    "                    tmp = Or(tmp,pd[var_name1])\n",
    "                constraint_9_2 = And(constraint_9_2,Implies(pd[var_name2], tmp))"
   ]
  },
  {
   "cell_type": "code",
   "execution_count": 195,
   "metadata": {},
   "outputs": [],
   "source": [
    "# C10.1\n",
    "constraint_10_1 = True\n",
    "for x in tsgn:\n",
    "    for d in day_list:\n",
    "        for p in range(min(periods(d)), 1 + max(periods(d)) - duration(x) + 1): \n",
    "            for r in rooms(x):\n",
    "                var_name1 = \"xdas\"+\"t\"+str(x[0])+\"s\"+str(x[1])+\"g\"+str(x[2])+\"n\"+str(x[3])+\"d\"+str(d)+\"p\"+str(p)+\"r\"+str(r)\n",
    "                var_name2 = \"xdas\"+\"t\"+str(x[0])+\"s\"+str(x[1])+\"g\"+str(x[2])+\"n\"+str(x[3])+\"d\"+str(d)+\"p\"+str(p)\n",
    "                constraint_10_1 = And(constraint_10_1,Implies(pd[var_name1], pd[var_name2]))"
   ]
  },
  {
   "cell_type": "code",
   "execution_count": 196,
   "metadata": {},
   "outputs": [],
   "source": [
    "# C10.3\n",
    "constraint_10_3 = True\n",
    "for x in tsgn:\n",
    "    for d in day_list:\n",
    "        for p in periods(d): \n",
    "            for r in rooms(x):\n",
    "                var_name1 = \"x\"+\"t\"+str(x[0])+\"s\"+str(x[1])+\"g\"+str(x[2])+\"n\"+str(x[3])+\"d\"+str(d)+\"p\"+str(p)+\"r\"+str(r)\n",
    "                var_name2 = \"x\"+\"t\"+str(x[0])+\"s\"+str(x[1])+\"g\"+str(x[2])+\"n\"+str(x[3])+\"d\"+str(d)+\"p\"+str(p)\n",
    "                constraint_10_3 = And(constraint_10_3,Implies(pd[var_name1], pd[var_name2]))"
   ]
  },
  {
   "cell_type": "code",
   "execution_count": 197,
   "metadata": {},
   "outputs": [],
   "source": [
    "# C10.2\n",
    "constraint_10_2 = True\n",
    "tmp_true = True\n",
    "tmp_false = False\n",
    "for x in tsgn:\n",
    "    for d in day_list:\n",
    "        for p in range(min(periods(d)), 1 + max(periods(d)) - duration(x) + 1):\n",
    "            tmp = copy.deepcopy(tmp_false)\n",
    "            var_name2 = \"xdas\"+\"t\"+str(x[0])+\"s\"+str(x[1])+\"g\"+str(x[2])+\"n\"+str(x[3])+\"d\"+str(d)+\"p\"+str(p)\n",
    "            for r in rooms(x):\n",
    "                var_name1 = \"xdas\"+\"t\"+str(x[0])+\"s\"+str(x[1])+\"g\"+str(x[2])+\"n\"+str(x[3])+\"d\"+str(d)+\"p\"+str(p)+\"r\"+str(r)\n",
    "                tmp = Or(tmp,pd[var_name1])\n",
    "            constraint_10_2 = And(constraint_10_2,Implies(pd[var_name2], tmp))"
   ]
  },
  {
   "cell_type": "code",
   "execution_count": 198,
   "metadata": {},
   "outputs": [],
   "source": [
    "# C10.4\n",
    "constraint_10_4 = True\n",
    "tmp_true = True\n",
    "tmp_false = False\n",
    "for x in tsgn:\n",
    "    for d in day_list:\n",
    "        for p in periods(d):\n",
    "            tmp = copy.deepcopy(tmp_false)\n",
    "            var_name2 = \"x\"+\"t\"+str(x[0])+\"s\"+str(x[1])+\"g\"+str(x[2])+\"n\"+str(x[3])+\"d\"+str(d)+\"p\"+str(p)\n",
    "            for r in rooms(x):\n",
    "                var_name1 = \"x\"+\"t\"+str(x[0])+\"s\"+str(x[1])+\"g\"+str(x[2])+\"n\"+str(x[3])+\"d\"+str(d)+\"p\"+str(p)+\"r\"+str(r)\n",
    "                tmp = Or(tmp,pd[var_name1])\n",
    "            constraint_10_4 = And(constraint_10_4,Implies(pd[var_name2], tmp))"
   ]
  },
  {
   "cell_type": "code",
   "execution_count": 199,
   "metadata": {},
   "outputs": [],
   "source": [
    "# V6\n",
    "for t in range(len(faculty_list)):\n",
    "    for d in day_list:\n",
    "        for p in periods(d):\n",
    "            for r in range(len(room_list)):\n",
    "                var_name = \"x\"+\"t\"+str(t)+\"d\"+str(d)+\"p\"+str(p)+\"r\"+str(r)\n",
    "                pd[var_name] = Bool(var_name)"
   ]
  },
  {
   "cell_type": "code",
   "execution_count": 200,
   "metadata": {},
   "outputs": [],
   "source": [
    "# C10.5\n",
    "constraint_10_5 = True\n",
    "for t in range(len(faculty_list)):\n",
    "    for d in day_list:\n",
    "        for p in periods(d): \n",
    "            for r in range(len(room_list)):\n",
    "                var_name1 = \"x\"+\"t\"+str(t)+\"d\"+str(d)+\"p\"+str(p)+\"r\"+str(r)\n",
    "                var_name2 = \"x\"+\"t\"+str(t)+\"d\"+str(d)+\"p\"+str(p)\n",
    "                constraint_10_5 = And(constraint_10_5,Implies(pd[var_name1], pd[var_name2]))"
   ]
  },
  {
   "cell_type": "code",
   "execution_count": 201,
   "metadata": {},
   "outputs": [],
   "source": [
    "# C10.6\n",
    "constraint_10_6 = True\n",
    "tmp_true = True\n",
    "tmp_false = False\n",
    "for t in range(len(faculty_list)):\n",
    "    for d in day_list:\n",
    "        for p in periods(d): \n",
    "            tmp = copy.deepcopy(tmp_false)\n",
    "            var_name2 = \"x\"+\"t\"+str(t)+\"d\"+str(d)+\"p\"+str(p)\n",
    "            for r in range(len(room_list)):\n",
    "                var_name1 = \"x\"+\"t\"+str(t)+\"d\"+str(d)+\"p\"+str(p)+\"r\"+str(r)\n",
    "                tmp = Or(tmp,pd[var_name1])\n",
    "            constraint_10_6 = And(constraint_10_6,Implies(pd[var_name2], tmp))"
   ]
  },
  {
   "cell_type": "code",
   "execution_count": 202,
   "metadata": {},
   "outputs": [],
   "source": [
    "# C11.1\n",
    "constraint_11_1 = True\n",
    "tmp_true = True\n",
    "tmp_false = False\n",
    "for d in day_list:\n",
    "    for p in periods(d): \n",
    "        for r in range(len(room_list)):\n",
    "            tmp = copy.deepcopy(tmp_true)\n",
    "            for ti in range(len(faculty_list)-1):\n",
    "                for tj in range(ti+1,len(faculty_list)):\n",
    "                    var_name2 = \"x\"+\"t\"+str(ti)+\"d\"+str(d)+\"p\"+str(p)+\"r\"+str(r)\n",
    "                    var_name1 = \"x\"+\"t\"+str(tj)+\"d\"+str(d)+\"p\"+str(p)+\"r\"+str(r)\n",
    "                    tmp = And(tmp,Or(Not(pd[var_name1]),Not(pd[var_name2])))\n",
    "            constraint_11_1 = And(constraint_11_1,tmp)"
   ]
  },
  {
   "cell_type": "code",
   "execution_count": 203,
   "metadata": {},
   "outputs": [],
   "source": [
    "# C11.2\n",
    "constraint_11_2 = True\n",
    "tmp_true = True\n",
    "tmp_false = False\n",
    "for d in day_list:\n",
    "    for p in periods(d): \n",
    "        for t in range(len(faculty_list)):\n",
    "            tmp = copy.deepcopy(tmp_true)\n",
    "            for ri in range(len(room_list)-1):\n",
    "                for rj in range(ri+1,len(room_list)):\n",
    "                    var_name2 = \"x\"+\"t\"+str(t)+\"d\"+str(d)+\"p\"+str(p)+\"r\"+str(ri)\n",
    "                    var_name1 = \"x\"+\"t\"+str(t)+\"d\"+str(d)+\"p\"+str(p)+\"r\"+str(rj)\n",
    "                    tmp = And(tmp,Or(Not(pd[var_name1]),Not(pd[var_name2])))\n",
    "            constraint_11_2 = And(constraint_11_2,tmp)"
   ]
  },
  {
   "cell_type": "code",
   "execution_count": 204,
   "metadata": {},
   "outputs": [],
   "source": [
    "# C12.1\n",
    "constraint_12_1 = True\n",
    "tmp_true = True\n",
    "tmp_false = False\n",
    "for x in tsgn:\n",
    "    for d in day_list:\n",
    "        for p in periods(d):\n",
    "            tmp = copy.deepcopy(tmp_true)\n",
    "            var_name2 = \"x\"+\"t\"+str(x[0])+\"s\"+str(x[1])+\"g\"+str(x[2])+\"n\"+str(x[3])+\"d\"+str(d)+\"p\"+str(p)\n",
    "            # Get faculties of the course s\n",
    "            x_f_list = course_list[x[1]][3]\n",
    "            if len(x_f_list) > 1:\n",
    "                x_f_list = x_f_list[1:]\n",
    "                t_list = [faculty_to_index[fi] for fi in x_f_list]\n",
    "                for t in t_list:\n",
    "                    var_name1 = \"x\"+\"t\"+str(t)+\"d\"+str(d)+\"p\"+str(p)\n",
    "                    tmp = And(tmp,Not(pd[var_name1]))\n",
    "                constraint_10_4 = And(constraint_10_4,Implies(pd[var_name2], tmp))"
   ]
  },
  {
   "cell_type": "code",
   "execution_count": 205,
   "metadata": {},
   "outputs": [
    {
     "name": "stdout",
     "output_type": "stream",
     "text": [
      "There exists a timetable which can satisfy the given constraints\n"
     ]
    }
   ],
   "source": [
    "ff = True # Final formula\n",
    "ff = And(ff, constraint_1_1)\n",
    "ff = And(ff, constraint_1_2)\n",
    "ff = And(ff, constraint_2_1)\n",
    "ff = And(ff, constraint_2_2)\n",
    "ff = And(ff, constraint_2_3)\n",
    "ff = And(ff, constraint_2_4)\n",
    "ff = And(ff, constraint_3_1)\n",
    "ff = And(ff, constraint_3_2)\n",
    "ff = And(ff, constraint_4_1)\n",
    "ff = And(ff, constraint_4_2)\n",
    "ff = And(ff, constraint_5_1)\n",
    "ff = And(ff, constraint_5_2)\n",
    "ff = And(ff, constraint_6_1)\n",
    "ff = And(ff, constraint_6_2)\n",
    "ff = And(ff, constraint_7_1)\n",
    "ff = And(ff, constraint_7_2)\n",
    "ff = And(ff, constraint_9_1)\n",
    "ff = And(ff, constraint_9_2)\n",
    "ff = And(ff, constraint_10_1)\n",
    "ff = And(ff, constraint_10_2)\n",
    "ff = And(ff, constraint_10_3)\n",
    "ff = And(ff, constraint_10_4)\n",
    "ff = And(ff, constraint_10_5)\n",
    "ff = And(ff, constraint_10_6)\n",
    "ff = And(ff, constraint_11_1)\n",
    "ff = And(ff, constraint_11_2)\n",
    "ff = And(ff, constraint_12_1)\n",
    "\n",
    "# Solving and creating model\n",
    "s = Solver()\n",
    "s.add(ff)\n",
    "if str(s.check()) == \"sat\":\n",
    "    print(\"There exists a timetable which can satisfy the given constraints\")\n",
    "else :\n",
    "    print(\"There doesn't exist a timetable which can satisfy the given constraints\")\n",
    "m = s.model()"
   ]
  },
  {
   "cell_type": "code",
   "execution_count": 206,
   "metadata": {
    "scrolled": false
   },
   "outputs": [],
   "source": [
    "final_timetable = []\n",
    "\n",
    "for x in tsgn:\n",
    "    for d in day_list:\n",
    "        for p in range(min(periods(d)), 1 + max(periods(d)) - duration(x) + 1):\n",
    "            for r in rooms(x):\n",
    "                var_name = \"xdas\"+\"t\"+str(x[0])+\"s\"+str(x[1])+\"g\"+str(x[2])+\"n\"+str(x[3])+\"d\"+str(d)+\"p\"+str(p)+\"r\"+str(r)\n",
    "                if (m.evaluate(pd[var_name])) : \n",
    "                    final_timetable.append(var_name)"
   ]
  },
  {
   "cell_type": "code",
   "execution_count": 207,
   "metadata": {},
   "outputs": [],
   "source": [
    "x_course = []\n",
    "x_batch = []\n",
    "x_day = []\n",
    "x_period = []\n",
    "x_room = []\n",
    "x_teacher = []\n",
    "x_n_th_lecture = []\n",
    "\n",
    "for each_class in final_timetable:\n",
    "    indx_t = each_class.find(\"t\")\n",
    "    indx_s = each_class.find(\"s\",4)\n",
    "    indx_g = each_class.find(\"g\")\n",
    "    indx_n = each_class.find(\"n\")\n",
    "    indx_d = each_class.find(\"d\",3)\n",
    "    indx_p = each_class.find(\"p\")\n",
    "    indx_r = each_class.find(\"r\")\n",
    "\n",
    "    x_course.append(int(each_class[indx_s+1:indx_g]))\n",
    "    x_batch.append(int(each_class[indx_g+1:indx_n])) \n",
    "    x_day.append(int(each_class[indx_d+1:indx_p]))\n",
    "    x_period.append(int(each_class[indx_p+1:indx_r]))\n",
    "    x_room.append(int(each_class[indx_r+1:]))\n",
    "    x_teacher.append(int(each_class[indx_t+1:indx_s]))\n",
    "    x_n_th_lecture.append(int(each_class[indx_n+1:indx_d]))\n",
    "\n",
    "import pandas as pd\n",
    "\n",
    "df = pd.DataFrame({\n",
    "    'Course' : pd.Series(x_course),\n",
    "    'Batch' : pd.Series(x_batch),\n",
    "    'Day' : pd.Series(x_day),\n",
    "    'Period' : pd.Series(x_period),\n",
    "    'Room' : pd.Series(x_room),\n",
    "    'Teacher': pd.Series(x_teacher),\n",
    "    'n_th_lec': pd.Series(x_n_th_lecture)\n",
    "})\n",
    "\n",
    "df = df.sort_values(by=['Day', 'Period','Batch','Room'])"
   ]
  },
  {
   "cell_type": "code",
   "execution_count": 208,
   "metadata": {
    "scrolled": true
   },
   "outputs": [
    {
     "name": "stdout",
     "output_type": "stream",
     "text": [
      "\n",
      "\n",
      "******************************** FINAL TIMETABLE SCHEDULED *******************************\n",
      "\n",
      "\n",
      "+--------+-------+-----------+-------------+---------+-------------------------+\n",
      "| COURSE | BATCH |    DAY    |    TIME     |  VENUE  |         FACULTY         |\n",
      "+--------+-------+-----------+-------------+---------+-------------------------+\n",
      "| CH107  |   1   |  Monday   | 9:00 am - 1 |   T1    | E. Siva Subramaniam I., |\n",
      "|        |       |           |   0:00 am   |         |    Rishikesh Narayan    |\n",
      "+--------+-------+-----------+-------------+---------+-------------------------+\n",
      "| HS301  |   3   |  Monday   | 9:00 am - 1 |   LH2   |     Sabiha Hashami      |\n",
      "|        |       |           |   0:00 am   |         |                         |\n",
      "+--------+-------+-----------+-------------+---------+-------------------------+\n",
      "| HS301  |   3   |  Monday   | 10:00 am -  |   LH1   |     Sabiha Hashami      |\n",
      "|        |       |           |  11:00 am   |         |                         |\n",
      "+--------+-------+-----------+-------------+---------+-------------------------+\n",
      "| CH107  |   1   |  Monday   | 10:30 am -  |   T3    | E. Siva Subramaniam I., |\n",
      "|        |       |           |  11:30 am   |         |    Rishikesh Narayan    |\n",
      "+--------+-------+-----------+-------------+---------+-------------------------+\n",
      "| CS207  |   2   |  Monday   | 10:30 am -  |   LH1   |     Amaldev Manuel      |\n",
      "|        |       |           |  11:30 am   |         |                         |\n",
      "+--------+-------+-----------+-------------+---------+-------------------------+\n",
      "| CH107  |   1   |  Monday   | 11:30 am -  |   T3    | E. Siva Subramaniam I., |\n",
      "|        |       |           |  12:30 pm   |         |    Rishikesh Narayan    |\n",
      "+--------+-------+-----------+-------------+---------+-------------------------+\n",
      "| CS101  |   1   |  Monday   | 2:30 pm - 4 | compute |     Somenath Biswas     |\n",
      "|        |       |           |   :30 pm    |  r lab  |                         |\n",
      "+--------+-------+-----------+-------------+---------+-------------------------+\n",
      "| HS101  |   2   |  Monday   | 4:00 pm - 5 |   T2    |       Sunil Paul        |\n",
      "|        |       |           |   :00 pm    |         |                         |\n",
      "+--------+-------+-----------+-------------+---------+-------------------------+\n",
      "| CH117  |   1   |  Tuesday  | 8:30 am - 1 | Chemist | E. Siva Subramaniam I.  |\n",
      "|        |       |           |   0:30 am   | ry lab  |                         |\n",
      "+--------+-------+-----------+-------------+---------+-------------------------+\n",
      "| EE101  |   2   |  Tuesday  | 9:30 am - 1 |   LH1   | T. S. Rathore,Ramnath K |\n",
      "|        |       |           |   1:00 am   |         |           ini           |\n",
      "+--------+-------+-----------+-------------+---------+-------------------------+\n",
      "| CH117  |   1   |  Tuesday  | 10:30 am -  | Chemist | E. Siva Subramaniam I.  |\n",
      "|        |       |           |  12:30 pm   | ry lab  |                         |\n",
      "+--------+-------+-----------+-------------+---------+-------------------------+\n",
      "| CS228  |   3   |  Tuesday  | 10:30 am -  |   T1    |      Sreejith A.V.      |\n",
      "|        |       |           |  11:30 am   |         |                         |\n",
      "+--------+-------+-----------+-------------+---------+-------------------------+\n",
      "| EE101  |   2   |  Tuesday  | 11:00 am -  |   LH1   | T. S. Rathore,Ramnath K |\n",
      "|        |       |           |  12:30 pm   |         |           ini           |\n",
      "+--------+-------+-----------+-------------+---------+-------------------------+\n",
      "| CS228  |   3   |  Tuesday  | 11:30 am -  |   T1    |      Sreejith A.V.      |\n",
      "|        |       |           |  12:30 pm   |         |                         |\n",
      "+--------+-------+-----------+-------------+---------+-------------------------+\n",
      "| ENG101 |   1   |  Tuesday  | 3:00 pm - 4 |   LH1   |       Nida Sajid        |\n",
      "|        |       |           |   :00 pm    |         |                         |\n",
      "+--------+-------+-----------+-------------+---------+-------------------------+\n",
      "| CS386  |   3   |  Tuesday  | 3:00 pm - 5 | compute |     Clint P. George     |\n",
      "|        |       |           |   :00 pm    |  r lab  |                         |\n",
      "+--------+-------+-----------+-------------+---------+-------------------------+\n",
      "| ENG101 |   1   |  Tuesday  | 4:00 pm - 5 |   LH1   |       Nida Sajid        |\n",
      "|        |       |           |   :00 pm    |         |                         |\n",
      "+--------+-------+-----------+-------------+---------+-------------------------+\n",
      "| HS101  |   2   |  Tuesday  | 4:00 pm - 5 |   T1    |       Sunil Paul        |\n",
      "|        |       |           |   :00 pm    |         |                         |\n",
      "+--------+-------+-----------+-------------+---------+-------------------------+\n",
      "| CS101  |   1   | Wednesday | 8:30 am - 1 | compute |     Somenath Biswas     |\n",
      "|        |       |           |   0:30 am   |  r lab  |                         |\n",
      "+--------+-------+-----------+-------------+---------+-------------------------+\n",
      "| CS305  |   3   | Wednesday | 8:30 am - 9 |   T1    |      Sharad Sinha       |\n",
      "|        |       |           |   :30 am    |         |                         |\n",
      "+--------+-------+-----------+-------------+---------+-------------------------+\n",
      "| CS305  |   3   | Wednesday | 10:00 am -  |   T2    |      Sharad Sinha       |\n",
      "|        |       |           |  11:00 am   |         |                         |\n",
      "+--------+-------+-----------+-------------+---------+-------------------------+\n",
      "| CS101  |   1   | Wednesday | 10:30 am -  | compute |     Somenath Biswas     |\n",
      "|        |       |           |  12:30 pm   |  r lab  |                         |\n",
      "+--------+-------+-----------+-------------+---------+-------------------------+\n",
      "| MA105  |   1   | Wednesday | 2:00 pm - 3 |   LH2   |    Lok Pati Tripathi    |\n",
      "|        |       |           |   :00 pm    |         |                         |\n",
      "+--------+-------+-----------+-------------+---------+-------------------------+\n",
      "| CS207  |   2   | Wednesday | 2:00 pm - 3 |   LH1   |     Amaldev Manuel      |\n",
      "|        |       |           |   :00 pm    |         |                         |\n",
      "+--------+-------+-----------+-------------+---------+-------------------------+\n",
      "| CS341  |   3   | Wednesday | 3:00 pm - 5 | compute |      Sharad Sinha       |\n",
      "|        |       |           |   :00 pm    |  r lab  |                         |\n",
      "+--------+-------+-----------+-------------+---------+-------------------------+\n",
      "| MA105  |   1   | Wednesday | 3:30 pm - 4 |   LH2   |    Lok Pati Tripathi    |\n",
      "|        |       |           |   :30 pm    |         |                         |\n",
      "+--------+-------+-----------+-------------+---------+-------------------------+\n",
      "| CS207  |   2   | Wednesday | 3:30 pm - 4 |   LH2   |     Amaldev Manuel      |\n",
      "|        |       |           |   :30 pm    |         |                         |\n",
      "+--------+-------+-----------+-------------+---------+-------------------------+\n",
      "| CS215  |   2   | Thursday  | 8:30 am - 1 |   LH2   |       Sujit Sahoo       |\n",
      "|        |       |           |   0:00 am   |         |                         |\n",
      "+--------+-------+-----------+-------------+---------+-------------------------+\n",
      "| CH105  |   1   | Thursday  | 9:00 am - 1 |   T1    | E. Siva Subramaniam I.  |\n",
      "|        |       |           |   0:00 am   |         |                         |\n",
      "+--------+-------+-----------+-------------+---------+-------------------------+\n",
      "| CH105  |   1   | Thursday  | 10:00 am -  |   T1    | E. Siva Subramaniam I.  |\n",
      "|        |       |           |  11:00 am   |         |                         |\n",
      "+--------+-------+-----------+-------------+---------+-------------------------+\n",
      "| CS215  |   2   | Thursday  | 10:00 am -  |   LH1   |       Sujit Sahoo       |\n",
      "|        |       |           |  11:30 am   |         |                         |\n",
      "+--------+-------+-----------+-------------+---------+-------------------------+\n",
      "| CS228  |   3   | Thursday  | 10:30 am -  |   T3    |      Sreejith A.V.      |\n",
      "|        |       |           |  11:30 am   |         |                         |\n",
      "+--------+-------+-----------+-------------+---------+-------------------------+\n",
      "| CH105  |   1   | Thursday  | 11:00 am -  |   T1    | E. Siva Subramaniam I.  |\n",
      "|        |       |           |  12:00 pm   |         |                         |\n",
      "+--------+-------+-----------+-------------+---------+-------------------------+\n",
      "| MA105  |   1   | Thursday  | 2:00 pm - 3 |   LH2   |    Lok Pati Tripathi    |\n",
      "|        |       |           |   :00 pm    |         |                         |\n",
      "+--------+-------+-----------+-------------+---------+-------------------------+\n",
      "| CS344  |   3   | Thursday  | 2:00 pm - 3 |   T2    |     Clint P. George     |\n",
      "|        |       |           |   :00 pm    |         |                         |\n",
      "+--------+-------+-----------+-------------+---------+-------------------------+\n",
      "| CS344  |   3   | Thursday  | 3:00 pm - 4 |   T3    |     Clint P. George     |\n",
      "|        |       |           |   :00 pm    |         |                         |\n",
      "+--------+-------+-----------+-------------+---------+-------------------------+\n",
      "| MA105  |   1   | Thursday  | 4:00 pm - 5 |   LH1   |    Lok Pati Tripathi    |\n",
      "|        |       |           |   :00 pm    |         |                         |\n",
      "+--------+-------+-----------+-------------+---------+-------------------------+\n",
      "| CS344  |   3   | Thursday  | 4:00 pm - 5 |   T3    |     Clint P. George     |\n",
      "|        |       |           |   :00 pm    |         |                         |\n",
      "+--------+-------+-----------+-------------+---------+-------------------------+\n",
      "| NO101  |   1   |  Friday   | 8:30 am - 1 | ground  |    Santosh Upadhyay     |\n",
      "|        |       |           |   0:30 am   |         |                         |\n",
      "+--------+-------+-----------+-------------+---------+-------------------------+\n",
      "| CS251  |   2   |  Friday   | 10:00 am -  | compute | Amaldev Manuel,Sreejith |\n",
      "|        |       |           |  12:00 pm   |  r lab  |           A.V.          |\n",
      "+--------+-------+-----------+-------------+---------+-------------------------+\n",
      "| NO101  |   1   |  Friday   | 10:30 am -  | ground  |    Santosh Upadhyay     |\n",
      "|        |       |           |  12:30 pm   |         |                         |\n",
      "+--------+-------+-----------+-------------+---------+-------------------------+\n",
      "| PH107  |   1   |  Friday   | 2:00 pm - 3 |   LH2   |      Basanta Nandi      |\n",
      "|        |       |           |   :00 pm    |         |                         |\n",
      "+--------+-------+-----------+-------------+---------+-------------------------+\n",
      "| PH107  |   1   |  Friday   | 3:00 pm - 4 |   LH2   |      Basanta Nandi      |\n",
      "|        |       |           |   :00 pm    |         |                         |\n",
      "+--------+-------+-----------+-------------+---------+-------------------------+\n",
      "| PH107  |   1   |  Friday   | 4:00 pm - 5 |   LH1   |      Basanta Nandi      |\n",
      "|        |       |           |   :00 pm    |         |                         |\n",
      "+--------+-------+-----------+-------------+---------+-------------------------+\n",
      "| CS305  |   3   |  Friday   | 4:00 pm - 5 |   T3    |      Sharad Sinha       |\n",
      "|        |       |           |   :00 pm    |         |                         |\n",
      "+--------+-------+-----------+-------------+---------+-------------------------+\n"
     ]
    }
   ],
   "source": [
    "from beautifultable import BeautifulTable\n",
    "timeTable = BeautifulTable()\n",
    "timeTable.column_headers = [\"COURSE\", \"BATCH\", \"DAY\",\"TIME\",\"VENUE\",\"FACULTY\"]\n",
    "\n",
    "period_to_time_if_morning = {1:\"8:30 am - 9:00 am\",2:\"9:00 am - 9:30 am\",3:\"9:30 am - 10:00 am\",4:\"10:00 am - 10:30 am\",5:\"10:30 am - 11:00 am\",6:\"11:00 am - 11:30 am\",7:\"11:30 am - 12:00 pm\",8:\"12:00 pm - 12:30 pm\"}\n",
    "period_to_time_if_evening = {1:\"2:00 pm - 2:30 pm\",2:\"2:30 pm - 3:00 pm\",3:\"3:00 pm - 3:30 pm\",4:\"3:30 pm - 4:00 pm\",5:\"4:00 pm - 4:30 pm\",6:\"4:30 pm - 5:00 pm\"}\n",
    "\n",
    "print(\"\\n\\n******************************** FINAL TIMETABLE SCHEDULED *******************************\\n\\n\")\n",
    "\n",
    "def final_scheduling_of_entire_timetable(final_timetable):\n",
    "    \n",
    "    for index, row in df.iterrows():\n",
    "    \n",
    "        x_teacher = row['Teacher']\n",
    "        x_course = row['Course']\n",
    "        x_batch = row['Batch']\n",
    "        x_n_th_lecture = row['n_th_lec']\n",
    "        x_day = row['Day']\n",
    "        x_period = row['Period']\n",
    "        x_room = row['Room']\n",
    "        \n",
    "        x_day_To_day = {1:'Monday',2:'Monday',3:'Tuesday',4:'Tuesday',5:'Wednesday',6:'Wednesday',7:'Thursday',8:'Thursday',9:'Friday',10:'Friday'}\n",
    "        \n",
    "        time_of_course = \"\"\n",
    "        \n",
    "        if x_day % 2 == 0 : # If it is \"Evening\" Session\n",
    "            duration_of_lecture = duration((x_teacher,x_course,x_batch,x_n_th_lecture))\n",
    "            st_dash_index = period_to_time_if_evening[x_period].find(\"-\")\n",
    "            start_time = period_to_time_if_evening[x_period][:st_dash_index]\n",
    "            et_dash_index = period_to_time_if_evening[x_period+duration_of_lecture-1].find(\"-\")\n",
    "            end_time = period_to_time_if_evening[x_period+duration_of_lecture-1][et_dash_index+1:]\n",
    "            time_of_course = start_time + \"-\" + end_time\n",
    "        \n",
    "        else : # If it is \"Morning\" Session\"\n",
    "            duration_of_lecture = duration((x_teacher,x_course,x_batch,x_n_th_lecture))\n",
    "            st_dash_index = period_to_time_if_morning[x_period].find(\"-\")\n",
    "            start_time = period_to_time_if_morning[x_period][:st_dash_index]\n",
    "            et_dash_index = period_to_time_if_morning[x_period+duration_of_lecture-1].find(\"-\")\n",
    "            end_time = period_to_time_if_morning[x_period+duration_of_lecture-1][et_dash_index+1:]\n",
    "            time_of_course = start_time + \"-\" + end_time \n",
    "        \n",
    "        facutlies_for_this_course = \",\".join(course_list[x_course][3])\n",
    "        timeTable.append_row([course_list[x_course][0], x_batch, x_day_To_day[x_day],time_of_course,room_list[x_room],facutlies_for_this_course])\n",
    "\n",
    "# Final Execution for printing the Time Table scheduled\n",
    "final_scheduling_of_entire_timetable(final_timetable)\n",
    "print(timeTable)\n",
    "\n"
   ]
  },
  {
   "cell_type": "code",
   "execution_count": 209,
   "metadata": {},
   "outputs": [],
   "source": [
    "with open('timeTable.txt','w') as f:\n",
    "    f.write(\"\\n\\n******************************** FINAL TIMETABLE SCHEDULED *******************************\\n\\n\")\n",
    "    f.write(str(timeTable))"
   ]
  },
  {
   "cell_type": "code",
   "execution_count": 210,
   "metadata": {},
   "outputs": [
    {
     "name": "stdout",
     "output_type": "stream",
     "text": [
      "Execution Time : 64.9875853061676\n"
     ]
    }
   ],
   "source": [
    "print(\"Execution Time :\",time.time() - start_time_of_program)"
   ]
  }
 ],
 "metadata": {
  "kernelspec": {
   "display_name": "Python 3",
   "language": "python",
   "name": "python3"
  },
  "language_info": {
   "codemirror_mode": {
    "name": "ipython",
    "version": 3
   },
   "file_extension": ".py",
   "mimetype": "text/x-python",
   "name": "python",
   "nbconvert_exporter": "python",
   "pygments_lexer": "ipython3",
   "version": "3.5.6"
  }
 },
 "nbformat": 4,
 "nbformat_minor": 2
}
